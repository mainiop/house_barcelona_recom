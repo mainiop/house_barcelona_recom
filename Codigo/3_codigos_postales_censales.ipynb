{
 "cells": [
  {
   "cell_type": "code",
   "execution_count": null,
   "metadata": {
    "id": "D_XLh47ujjeg"
   },
   "outputs": [],
   "source": [
    "import pandas as pd\n",
    "import numpy as np\n",
    "import plotly.express as px\n",
    "import pandas as pd\n",
    "import matplotlib.pyplot as plt\n",
    "import seaborn as sns\n"
   ]
  },
  {
   "cell_type": "markdown",
   "metadata": {
    "id": "XA4-6Dcgjjeh"
   },
   "source": [
    "### Se han obtenido los datos tando de la web de [Opendata Ajuntament de Barcelona](https://opendata-ajuntament.barcelona.cat/data/es/dataset/20170706-districtes-barris/resource/e16856a7-b3c0-4c32-a468-cc190cbbf7a9)\n",
    "\n",
    "<div style=\"display: flex; justify-content: center; align-items: center; text-align: center;\">\n",
    "  <a href=\"http://www.icgc.cat/\" target=\"_blank\">\n",
    "    <img src=\"https://upload.wikimedia.org/wikipedia/commons/c/ca/ICGC.svg\" alt=\"ICGC\" width=\"200\" height=\"120\" style=\"margin-right: 20px;\">\n",
    "  </a>\n",
    "  <a href=\"https://www.openstreetmap.org/#map=7/53.462/-8.240\">\n",
    "    <img src=\"https://upload.wikimedia.org/wikipedia/commons/thumb/b/b0/Openstreetmap_logo.svg/1024px-Openstreetmap_logo.svg.png\" alt=\"OpenStreetMap\" width=\"100\" height=\"100\" style=\"margin-right: 20px;\">\n",
    "  </a>\n",
    "  <a href=\"https://overpass-turbo.eu/\">\n",
    "    <img src=\"https://upload.wikimedia.org/wikipedia/commons/thumb/c/c3/Overpass-turbo.svg/1024px-Overpass-turbo.svg.png\" alt=\"Overpass Turbo\" width=\"100\" height=\"100\" style=\"margin-right: 20px;\">\n",
    "  </a>\n",
    "  <a href=\"https://opendata-ajuntament.barcelona.cat/ca\" target=\"_blank\">\n",
    "    <img src=\"https://www.barcelona.cat/assets/images/brand/banner/2023/logo.svg\" alt=\"Ajuntament de Barcelona\" width=\"200\" height=\"133\">\n",
    "  </a>\n",
    "  <a href=\"https://geopandas.org\" target=\"_blank\">\n",
    "    <img src=\"https://geopandas.org/en/stable/_static/geopandas_logo_web.svg\" alt=\"Geopandas\" width=\"200\" height=\"100\" style=\"margin-left: 20px;\">\n",
    "  </a>\n",
    "  <a href=\"https://www.ine.es/\" target=\"_blank\">\n",
    "    <img src=\"https://www.ine.es/menus/_b/img/LogoINE.svg\" alt=\"INE\" width=\"200\" height=\"75\" style=\"margin-left: 20px;\">\n",
    "  </a>\n",
    "</div>\n",
    "\n",
    "\n"
   ]
  },
  {
   "cell_type": "code",
   "execution_count": null,
   "metadata": {
    "id": "hS2UFPxZjjei"
   },
   "outputs": [],
   "source": [
    "pd.options.display.float_format = '{:.2f}'.format"
   ]
  },
  {
   "cell_type": "code",
   "execution_count": null,
   "metadata": {
    "id": "MP83Oan6jjei"
   },
   "outputs": [],
   "source": [
    "# Importamos el Dataset de idealista con los datos de Barcelona elimado los duplicados y medio limpio\n",
    "result_barcelona = pd.read_csv(\"/TFM Mercado Inmobiliario - Kschool/Metodología de Modelado/9. Código y datasets/Barcelona/Datasets/result_barcelona_districs_zip.csv\", sep = \";\")"
   ]
  },
  {
   "cell_type": "code",
   "execution_count": null,
   "metadata": {
    "id": "lq0d5F0ujjej",
    "outputId": "9d94207d-9da9-479c-c456-48d54eb73a6c"
   },
   "outputs": [
    {
     "data": {
      "text/html": [
       "<div>\n",
       "<style scoped>\n",
       "    .dataframe tbody tr th:only-of-type {\n",
       "        vertical-align: middle;\n",
       "    }\n",
       "\n",
       "    .dataframe tbody tr th {\n",
       "        vertical-align: top;\n",
       "    }\n",
       "\n",
       "    .dataframe thead th {\n",
       "        text-align: right;\n",
       "    }\n",
       "</style>\n",
       "<table border=\"1\" class=\"dataframe\">\n",
       "  <thead>\n",
       "    <tr style=\"text-align: right;\">\n",
       "      <th></th>\n",
       "      <th>codi_districte</th>\n",
       "      <th>nom_districte</th>\n",
       "      <th>codi_barri</th>\n",
       "      <th>nom_barri</th>\n",
       "      <th>codi_aeb</th>\n",
       "      <th>codi_seccio_censal</th>\n",
       "      <th>geometria_etrs89</th>\n",
       "      <th>geometria_wgs84</th>\n",
       "    </tr>\n",
       "  </thead>\n",
       "  <tbody>\n",
       "    <tr>\n",
       "      <th>0</th>\n",
       "      <td>1</td>\n",
       "      <td>Ciutat Vella</td>\n",
       "      <td>1</td>\n",
       "      <td>el Raval</td>\n",
       "      <td>1</td>\n",
       "      <td>1</td>\n",
       "      <td>POLYGON ((431076.464530388 4581077.08434164, 4...</td>\n",
       "      <td>POLYGON ((2.17574559344731 41.3782641827437, 2...</td>\n",
       "    </tr>\n",
       "    <tr>\n",
       "      <th>1</th>\n",
       "      <td>1</td>\n",
       "      <td>Ciutat Vella</td>\n",
       "      <td>1</td>\n",
       "      <td>el Raval</td>\n",
       "      <td>1</td>\n",
       "      <td>2</td>\n",
       "      <td>POLYGON ((431023.108231672 4581164.10175305, 4...</td>\n",
       "      <td>POLYGON ((2.1750976670412 41.3790433512605, 2....</td>\n",
       "    </tr>\n",
       "    <tr>\n",
       "      <th>2</th>\n",
       "      <td>1</td>\n",
       "      <td>Ciutat Vella</td>\n",
       "      <td>1</td>\n",
       "      <td>el Raval</td>\n",
       "      <td>2</td>\n",
       "      <td>3</td>\n",
       "      <td>POLYGON ((430778.541350762 4580924.42074461, 4...</td>\n",
       "      <td>POLYGON ((2.17220053084639 41.3768636129894, 2...</td>\n",
       "    </tr>\n",
       "    <tr>\n",
       "      <th>3</th>\n",
       "      <td>1</td>\n",
       "      <td>Ciutat Vella</td>\n",
       "      <td>1</td>\n",
       "      <td>el Raval</td>\n",
       "      <td>2</td>\n",
       "      <td>4</td>\n",
       "      <td>POLYGON ((430630.881196672 4581028.0419057, 43...</td>\n",
       "      <td>POLYGON ((2.17042302354862 41.3777841823219, 2...</td>\n",
       "    </tr>\n",
       "    <tr>\n",
       "      <th>4</th>\n",
       "      <td>1</td>\n",
       "      <td>Ciutat Vella</td>\n",
       "      <td>1</td>\n",
       "      <td>el Raval</td>\n",
       "      <td>3</td>\n",
       "      <td>5</td>\n",
       "      <td>POLYGON ((430938.036305269 4581297.26840996, 4...</td>\n",
       "      <td>POLYGON ((2.17406520850236 41.380235446924, 2....</td>\n",
       "    </tr>\n",
       "    <tr>\n",
       "      <th>...</th>\n",
       "      <td>...</td>\n",
       "      <td>...</td>\n",
       "      <td>...</td>\n",
       "      <td>...</td>\n",
       "      <td>...</td>\n",
       "      <td>...</td>\n",
       "      <td>...</td>\n",
       "      <td>...</td>\n",
       "    </tr>\n",
       "    <tr>\n",
       "      <th>1063</th>\n",
       "      <td>10</td>\n",
       "      <td>Sant Martí</td>\n",
       "      <td>73</td>\n",
       "      <td>la Verneda i la Pau</td>\n",
       "      <td>233</td>\n",
       "      <td>143</td>\n",
       "      <td>POLYGON ((433903.969423829 4586241.70494589, 4...</td>\n",
       "      <td>POLYGON ((2.20899258393477 41.4250178486794, 2...</td>\n",
       "    </tr>\n",
       "    <tr>\n",
       "      <th>1064</th>\n",
       "      <td>10</td>\n",
       "      <td>Sant Martí</td>\n",
       "      <td>65</td>\n",
       "      <td>el Clot</td>\n",
       "      <td>206</td>\n",
       "      <td>234</td>\n",
       "      <td>POLYGON ((432273.299250954 4584318.05826554, 4...</td>\n",
       "      <td>POLYGON ((2.18969468400774 41.407556353285, 2....</td>\n",
       "    </tr>\n",
       "    <tr>\n",
       "      <th>1065</th>\n",
       "      <td>10</td>\n",
       "      <td>Sant Martí</td>\n",
       "      <td>69</td>\n",
       "      <td>Diagonal Mar i el Front Marítim del Poblenou</td>\n",
       "      <td>216</td>\n",
       "      <td>235</td>\n",
       "      <td>POLYGON ((434259.694600979 4584641.91834795, 4...</td>\n",
       "      <td>POLYGON ((2.21342322939895 41.4106381875592, 2...</td>\n",
       "    </tr>\n",
       "    <tr>\n",
       "      <th>1066</th>\n",
       "      <td>10</td>\n",
       "      <td>Sant Martí</td>\n",
       "      <td>69</td>\n",
       "      <td>Diagonal Mar i el Front Marítim del Poblenou</td>\n",
       "      <td>216</td>\n",
       "      <td>236</td>\n",
       "      <td>POLYGON ((434142.045087524 4584575.90529832, 4...</td>\n",
       "      <td>POLYGON ((2.21202287611105 41.4100339936725, 2...</td>\n",
       "    </tr>\n",
       "    <tr>\n",
       "      <th>1067</th>\n",
       "      <td>10</td>\n",
       "      <td>Sant Martí</td>\n",
       "      <td>71</td>\n",
       "      <td>Provençals del Poblenou</td>\n",
       "      <td>225</td>\n",
       "      <td>237</td>\n",
       "      <td>POLYGON ((433966.490604135 4585514.14855655, 4...</td>\n",
       "      <td>POLYGON ((2.20982018395737 41.4184700944927, 2...</td>\n",
       "    </tr>\n",
       "  </tbody>\n",
       "</table>\n",
       "<p>1068 rows × 8 columns</p>\n",
       "</div>"
      ],
      "text/plain": [
       "      codi_districte nom_districte  codi_barri  \\\n",
       "0                  1  Ciutat Vella           1   \n",
       "1                  1  Ciutat Vella           1   \n",
       "2                  1  Ciutat Vella           1   \n",
       "3                  1  Ciutat Vella           1   \n",
       "4                  1  Ciutat Vella           1   \n",
       "...              ...           ...         ...   \n",
       "1063              10    Sant Martí          73   \n",
       "1064              10    Sant Martí          65   \n",
       "1065              10    Sant Martí          69   \n",
       "1066              10    Sant Martí          69   \n",
       "1067              10    Sant Martí          71   \n",
       "\n",
       "                                         nom_barri  codi_aeb  \\\n",
       "0                                         el Raval         1   \n",
       "1                                         el Raval         1   \n",
       "2                                         el Raval         2   \n",
       "3                                         el Raval         2   \n",
       "4                                         el Raval         3   \n",
       "...                                            ...       ...   \n",
       "1063                           la Verneda i la Pau       233   \n",
       "1064                                       el Clot       206   \n",
       "1065  Diagonal Mar i el Front Marítim del Poblenou       216   \n",
       "1066  Diagonal Mar i el Front Marítim del Poblenou       216   \n",
       "1067                       Provençals del Poblenou       225   \n",
       "\n",
       "      codi_seccio_censal                                   geometria_etrs89  \\\n",
       "0                      1  POLYGON ((431076.464530388 4581077.08434164, 4...   \n",
       "1                      2  POLYGON ((431023.108231672 4581164.10175305, 4...   \n",
       "2                      3  POLYGON ((430778.541350762 4580924.42074461, 4...   \n",
       "3                      4  POLYGON ((430630.881196672 4581028.0419057, 43...   \n",
       "4                      5  POLYGON ((430938.036305269 4581297.26840996, 4...   \n",
       "...                  ...                                                ...   \n",
       "1063                 143  POLYGON ((433903.969423829 4586241.70494589, 4...   \n",
       "1064                 234  POLYGON ((432273.299250954 4584318.05826554, 4...   \n",
       "1065                 235  POLYGON ((434259.694600979 4584641.91834795, 4...   \n",
       "1066                 236  POLYGON ((434142.045087524 4584575.90529832, 4...   \n",
       "1067                 237  POLYGON ((433966.490604135 4585514.14855655, 4...   \n",
       "\n",
       "                                        geometria_wgs84  \n",
       "0     POLYGON ((2.17574559344731 41.3782641827437, 2...  \n",
       "1     POLYGON ((2.1750976670412 41.3790433512605, 2....  \n",
       "2     POLYGON ((2.17220053084639 41.3768636129894, 2...  \n",
       "3     POLYGON ((2.17042302354862 41.3777841823219, 2...  \n",
       "4     POLYGON ((2.17406520850236 41.380235446924, 2....  \n",
       "...                                                 ...  \n",
       "1063  POLYGON ((2.20899258393477 41.4250178486794, 2...  \n",
       "1064  POLYGON ((2.18969468400774 41.407556353285, 2....  \n",
       "1065  POLYGON ((2.21342322939895 41.4106381875592, 2...  \n",
       "1066  POLYGON ((2.21202287611105 41.4100339936725, 2...  \n",
       "1067  POLYGON ((2.20982018395737 41.4184700944927, 2...  \n",
       "\n",
       "[1068 rows x 8 columns]"
      ]
     },
     "execution_count": 4,
     "metadata": {},
     "output_type": "execute_result"
    }
   ],
   "source": [
    "# Importamos los datos de las secciones censales de Barcelona de la web de Barcelona\n",
    "barcelona = pd.read_csv(\"/TFM Mercado Inmobiliario - Kschool/Metodología de Modelado/9. Código y datasets/Barcelona/Datasets/Obsoleto/BarcelonaCiutat_SeccionsCensals.csv\")"
   ]
  },
  {
   "cell_type": "markdown",
   "metadata": {
    "id": "kqMClONzjjej"
   },
   "source": [
    "Aquí hacemos el codigo con: [Ayuntamiento de Barcelona](https://opendata-ajuntament.barcelona.cat/data/es/dataset/20170706-districtes-barris/resource/e16856a7-b3c0-4c32-a468-cc190cbbf7a9)\n",
    "\n",
    "Pero el final se utiliza el sistema del ICGC"
   ]
  },
  {
   "cell_type": "code",
   "execution_count": null,
   "metadata": {
    "id": "ak_mpmsFjjek",
    "outputId": "a4dcd27c-eb56-487e-835b-786a96ed47de"
   },
   "outputs": [
    {
     "ename": "NameError",
     "evalue": "name 'barcelona' is not defined",
     "output_type": "error",
     "traceback": [
      "\u001b[0;31m---------------------------------------------------------------------------\u001b[0m",
      "\u001b[0;31mNameError\u001b[0m                                 Traceback (most recent call last)",
      "Cell \u001b[0;32mIn[2], line 7\u001b[0m\n\u001b[1;32m      4\u001b[0m \u001b[38;5;28;01mfrom\u001b[39;00m \u001b[38;5;21;01mshapely\u001b[39;00m\u001b[38;5;21;01m.\u001b[39;00m\u001b[38;5;21;01mgeometry\u001b[39;00m \u001b[38;5;28;01mimport\u001b[39;00m Point\n\u001b[1;32m      6\u001b[0m \u001b[38;5;66;03m# Leer los datasets\u001b[39;00m\n\u001b[0;32m----> 7\u001b[0m file_polygons \u001b[38;5;241m=\u001b[39m \u001b[43mbarcelona\u001b[49m\n\u001b[1;32m      8\u001b[0m file_coordinates \u001b[38;5;241m=\u001b[39m result_barcelona\n\u001b[1;32m     10\u001b[0m \u001b[38;5;66;03m# Cargar los polígonos como DataFrame\u001b[39;00m\n",
      "\u001b[0;31mNameError\u001b[0m: name 'barcelona' is not defined"
     ]
    }
   ],
   "source": [
    "# import pandas as pd\n",
    "# import geopandas as gpd\n",
    "# from shapely.wkt import loads\n",
    "# from shapely.geometry import Point\n",
    "\n",
    "# file_polygons = barcelona\n",
    "# file_coordinates = result_barcelona\n",
    "\n",
    "# polygons_df = file_polygons\n",
    "\n",
    "# polygons_gdf = gpd.GeoDataFrame(\n",
    "#     polygons_df,\n",
    "#     geometry=polygons_df['geometria_etrs89'].apply(loads),\n",
    "#     crs=\"EPSG:25831\"\n",
    "# )\n",
    "\n",
    "# coordinates_df = file_coordinates\n",
    "\n",
    "# coordinates_gdf = gpd.GeoDataFrame(\n",
    "#     coordinates_df,\n",
    "#     geometry=gpd.points_from_xy(coordinates_df['longitude'], coordinates_df['latitude']),\n",
    "#     crs=\"EPSG:4326\"\n",
    "# )\n",
    "\n",
    "# coordinates_gdf = coordinates_gdf.to_crs(\"EPSG:25831\")\n",
    "\n",
    "# joined_gdf = gpd.sjoin(coordinates_gdf, polygons_gdf, how=\"left\", predicate=\"within\")\n",
    "\n",
    "# output_file = \"/TFM Mercado Inmobiliario - Kschool/Metodología de Modelado/9. Código y datasets/Barcelona/Datasets/Obsoleto/barcelona_zip_censalcode.csv\"\n",
    "# joined_gdf.to_csv(output_file, index=False)\n",
    "\n",
    "# print(f\"El archivo combinado se ha guardado en {output_file}\")\n"
   ]
  },
  {
   "cell_type": "markdown",
   "metadata": {
    "id": "AvzBkIT1jjek"
   },
   "source": [
    "Los datos de selección censal definitivo se han sacado de la web del ICGC (\"Institut Cartogràfic i Geològic de Catalunya\")\n",
    "\n",
    "<div style=\"display: flex; justify-content: space-between; align-items: flex-start;\">\n",
    "  <div style=\"flex-grow: 1;\">\n",
    "\n",
    "1. \"Capes adicionals\":\n",
    "\n",
    "    1.1 Seleccionamos \"Secciones Censales 2023 (IDESCAT i ICGC)\"\n",
    "\n",
    "2. \"Catàleg i descàrrega\":\n",
    "\n",
    "    2.1 Seleccionamos \"Alta resolució\" i \"visor de descàrregues\"\n",
    "\n",
    "    2.2 Nos llevará a [descàrregues](https://visors.icgc.cat/appdownloads/index.html)\n",
    "\n",
    "3. En [descàrregues](https://visors.icgc.cat/appdownloads/index.html):\n",
    "\n",
    "    3.1 Vamos a \"Per fulls\"\n",
    "\n",
    "    3.2 En \"2. Selecciona el producte\"\n",
    "\n",
    "    3.3 Seleccionamos \"Base de secciones censales\"\n",
    "\n",
    "</div>\n",
    "<a href=\"http://www.icgc.cat/\" target=\"_blank\"> <img src=\"https://upload.wikimedia.org/wikipedia/commons/c/ca/ICGC.svg\" alt=\"ICGC\" width=\"500\" height=\"300\" style=\"margin-right: 10px;\">\n",
    "</a>\n",
    "</div>\n",
    "\n",
    "Descargamos el archivo SHP, que contiene las secciones censales (en el 2024) hasta el 2023 que es el que hemos utilizado"
   ]
  },
  {
   "cell_type": "code",
   "execution_count": null,
   "metadata": {
    "id": "Qziet2Qijjek",
    "outputId": "b8a9a062-cc21-4f31-82b0-9b076b21b83c"
   },
   "outputs": [
    {
     "ename": "NameError",
     "evalue": "name 'result_barcelona' is not defined",
     "output_type": "error",
     "traceback": [
      "\u001b[0;31m---------------------------------------------------------------------------\u001b[0m",
      "\u001b[0;31mNameError\u001b[0m                                 Traceback (most recent call last)",
      "Cell \u001b[0;32mIn[3], line 12\u001b[0m\n\u001b[1;32m      9\u001b[0m file_polygons \u001b[38;5;241m=\u001b[39m \u001b[38;5;124m\"\u001b[39m\u001b[38;5;124m/TFM Mercado Inmobiliario - Kschool/Metodología de Modelado/9. Código y datasets/Barcelona/Datasets/Json_geografico/distritos_censales_catalunya.shp\u001b[39m\u001b[38;5;124m\"\u001b[39m\n\u001b[1;32m     11\u001b[0m \u001b[38;5;66;03m# Ruta al archivo CSV de coordenadas\u001b[39;00m\n\u001b[0;32m---> 12\u001b[0m file_coordinates \u001b[38;5;241m=\u001b[39m \u001b[43mresult_barcelona\u001b[49m\n\u001b[1;32m     14\u001b[0m \u001b[38;5;66;03m# Cargar los polígonos directamente desde el archivo SHP\u001b[39;00m\n\u001b[1;32m     15\u001b[0m polygons_gdf \u001b[38;5;241m=\u001b[39m gpd\u001b[38;5;241m.\u001b[39mread_file(file_polygons)\n",
      "\u001b[0;31mNameError\u001b[0m: name 'result_barcelona' is not defined"
     ]
    }
   ],
   "source": [
    "import pandas as pd\n",
    "import geopandas as gpd\n",
    "from shapely.geometry import Point\n",
    "\n",
    "file_polygons = \"/TFM Mercado Inmobiliario - Kschool/Metodología de Modelado/9. Código y datasets/Barcelona/Datasets/Json_geografico/Distritos_censales_catalunya/distritos_censales_catalunya.shp\"\n",
    "\n",
    "file_coordinates = result_barcelona\n",
    "\n",
    "polygons_gdf = gpd.read_file(file_polygons)\n",
    "\n",
    "if polygons_gdf.crs != \"EPSG:25831\":\n",
    "    polygons_gdf = polygons_gdf.to_crs(\"EPSG:25831\")\n",
    "\n",
    "coordinates_df = file_coordinates\n",
    "\n",
    "coordinates_gdf = gpd.GeoDataFrame(\n",
    "    coordinates_df,\n",
    "    geometry=gpd.points_from_xy(coordinates_df['longitude'], coordinates_df['latitude']),\n",
    "    crs=\"EPSG:4326\"\n",
    ")\n",
    "\n",
    "coordinates_gdf = coordinates_gdf.to_crs(\"EPSG:25831\")\n",
    "\n",
    "joined_gdf = gpd.sjoin(coordinates_gdf, polygons_gdf, how=\"left\", predicate=\"within\")\n",
    "\n",
    "output_file = \"/TFM Mercado Inmobiliario - Kschool/Metodología de Modelado/9. Código y datasets/Barcelona/Datasets/result_barcelona_district_zip_censalcode.csv\"\n",
    "joined_gdf.to_csv(output_file, index=False)\n",
    "\n",
    "print(f\"El archivo combinado se ha guardado en {output_file}\")"
   ]
  },
  {
   "cell_type": "markdown",
   "metadata": {
    "id": "B7LQWX12jjel"
   },
   "source": [
    "La codificación del INE i la de ICGC és algo distinta el codigo de municipio de ICGC es **08193** y el de INE es **08019** <br>\n",
    "\n",
    "1. Normalizamos los datos del ICGC con los del INE\n",
    "\n",
    "    1.1 Eliminamos el 3 y añadimos codigo del \"MUNICIPI\" + \"DISTRICTE\" + \"SECCIO\""
   ]
  },
  {
   "cell_type": "code",
   "execution_count": null,
   "metadata": {
    "id": "GyVBl5gTjjel",
    "outputId": "50439952-f231-4f60-f80f-7c62b92cd26e"
   },
   "outputs": [
    {
     "name": "stdout",
     "output_type": "stream",
     "text": [
      "  MUNICIPI DISTRICTE SECCIO cod_distrito_censal\n",
      "0    08019        02    076          0801902076\n",
      "1    08019        02    082          0801902082\n",
      "2    08019        02    091          0801902091\n",
      "3    08019        01    048          0801901048\n",
      "4    08019        01    051          0801901051\n"
     ]
    }
   ],
   "source": [
    "\n",
    "joined_gdf['MUNICIPI'] = joined_gdf['MUNICIPI'].astype(str).str[:-1]\n",
    "joined_gdf['cod_distrito_censal'] = joined_gdf['MUNICIPI'] + joined_gdf['DISTRICTE'] + joined_gdf['SECCIO']\n",
    "\n",
    "print(joined_gdf[['MUNICIPI', 'DISTRICTE', 'SECCIO', 'cod_distrito_censal']].head())"
   ]
  },
  {
   "cell_type": "code",
   "execution_count": null,
   "metadata": {
    "id": "eNpOPB-wjjel"
   },
   "outputs": [],
   "source": [
    "joined_gdf.to_csv(\"/TFM Mercado Inmobiliario - Kschool/Metodología de Modelado/9. Código y datasets/Barcelona/Datasets/result_barcelona_district_zip_censalcode.csv\", sep = \";\", index = False)"
   ]
  },
  {
   "cell_type": "code",
   "execution_count": null,
   "metadata": {
    "id": "2c07ji40jjel",
    "outputId": "df234111-92d1-4154-df2c-00a21e3360a3"
   },
   "outputs": [
    {
     "data": {
      "text/plain": [
       "propertyCode           0\n",
       "thumbnail              0\n",
       "externalReference      0\n",
       "numPhotos              0\n",
       "floor                  0\n",
       "                      ..\n",
       "MUNICIPI               0\n",
       "DISTRICTE              7\n",
       "SECCIO                 7\n",
       "MUNDISSEC              7\n",
       "cod_distrito_censal    7\n",
       "Length: 69, dtype: int64"
      ]
     },
     "execution_count": 9,
     "metadata": {},
     "output_type": "execute_result"
    }
   ],
   "source": [
    "joined_gdf.isna().sum()"
   ]
  },
  {
   "cell_type": "markdown",
   "metadata": {
    "id": "8g0RVCfJjjel"
   },
   "source": [
    "### Tambien lo podemos obtener de la pagina del [INE(Instituto Nacional de Estadistica)](https://www.ine.es/ss/Satellite?L=es_ES&c=Page&cid=1259952026632&p=1259952026632&pagename=ProductosYServicios%2FPYSLayout#)\n",
    "\n",
    "\n",
    "<div style=\"display: flex; justify-content: center; align-items: center; text-align: center;\">\n",
    "  <a href=\"https://www.ine.es/ss/Satellite?L=es_ES&c=Page&cid=1259952026632&p=1259952026632&pagename=ProductosYServicios%2FPYSLayout#\" target=\"_blank\">\n",
    "    <img src=\"https://www.ine.es/menus/_b/img/LogoINE.svg\" alt=\"INE\" width=\"200\" height=\"75\" style=\"margin-left: 20px;\">\n",
    "  </a>\n",
    "</div>"
   ]
  },
  {
   "cell_type": "code",
   "execution_count": null,
   "metadata": {
    "id": "2aTf1M-ljjel",
    "outputId": "c6e5e517-957a-4506-fa6b-b3960ed0afdc"
   },
   "outputs": [
    {
     "name": "stdout",
     "output_type": "stream",
     "text": [
      "El archivo combinado se ha guardado en /TFM Mercado Inmobiliario - Kschool/Metodología de Modelado/9. Código y datasets/Barcelona/Datasets/Json_geografico/España_Seccionado2023_ETRS89H30/result_barcelona_district_zip_censalcode.csv\n"
     ]
    }
   ],
   "source": [
    "# import pandas as pd\n",
    "# import geopandas as gpd\n",
    "# from shapely.geometry import Point\n",
    "\n",
    "# file_polygons = \"/TFM Mercado Inmobiliario - Kschool/Metodología de Modelado/9. Código y datasets/Barcelona/Datasets/Json_geografico/España_Seccionado2023_ETRS89H30/SECC_CE_20230101.shp\"\n",
    "\n",
    "# file_coordinates = result_barcelona\n",
    "\n",
    "# polygons_gdf = gpd.read_file(file_polygons)\n",
    "\n",
    "# if polygons_gdf.crs != \"EPSG:25831\":\n",
    "#     polygons_gdf = polygons_gdf.to_crs(\"EPSG:25831\")\n",
    "\n",
    "# coordinates_df = file_coordinates\n",
    "\n",
    "# coordinates_gdf = gpd.GeoDataFrame(\n",
    "#     coordinates_df,\n",
    "#     geometry=gpd.points_from_xy(coordinates_df['longitude'], coordinates_df['latitude']),\n",
    "#     crs=\"EPSG:4326\"\n",
    "# )\n",
    "\n",
    "# coordinates_gdf = coordinates_gdf.to_crs(\"EPSG:25831\")\n",
    "\n",
    "# joined_gdf = gpd.sjoin(coordinates_gdf, polygons_gdf, how=\"left\", predicate=\"within\")\n",
    "\n",
    "# output_file = \"/TFM Mercado Inmobiliario - Kschool/Metodología de Modelado/9. Código y datasets/Barcelona/Datasets/Json_geografico/España_Seccionado2023_ETRS89H30/result_barcelona_district_zip_censalcode.csv\"\n",
    "# joined_gdf.to_csv(output_file, index=False)\n",
    "\n",
    "# print(f\"El archivo combinado se ha guardado en {output_file}\")"
   ]
  },
  {
   "cell_type": "code",
   "execution_count": null,
   "metadata": {
    "id": "6ge5_Sau6BaZ"
   },
   "outputs": [],
   "source": [
    "# barcelona = pd.read_csv(\"/TFM Mercado Inmobiliario - Kschool/Metodología de Modelado/9. Código y datasets/Barcelona/Datasets/Json_geografico/España_Seccionado2023_ETRS89H30/result_barcelona_district_zip_censalcode.csv\", encoding = 'latin1')"
   ]
  }
 ],
 "metadata": {
  "colab": {
   "provenance": []
  },
  "kernelspec": {
   "display_name": "kschool_3_12",
   "language": "python",
   "name": "python3"
  },
  "language_info": {
   "codemirror_mode": {
    "name": "ipython",
    "version": 3
   },
   "file_extension": ".py",
   "mimetype": "text/x-python",
   "name": "python",
   "nbconvert_exporter": "python",
   "pygments_lexer": "ipython3",
   "version": "3.12.3"
  }
 },
 "nbformat": 4,
 "nbformat_minor": 0
}
