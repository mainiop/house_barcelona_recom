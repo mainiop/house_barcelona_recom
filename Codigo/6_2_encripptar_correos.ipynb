{
 "cells": [
  {
   "cell_type": "code",
   "execution_count": null,
   "metadata": {},
   "outputs": [],
   "source": [
    "import os\n",
    "from cryptography.fernet import Fernet"
   ]
  },
  {
   "cell_type": "markdown",
   "metadata": {},
   "source": [
    "### Se encriptan todos los correos electronicos de los usuarios para proteger su privacidad\n",
    "\n",
    "- No se proporciona la clave de encriptación\n"
   ]
  },
  {
   "cell_type": "code",
   "execution_count": null,
   "metadata": {},
   "outputs": [],
   "source": [
    "# Generar clave para cifrar \n",
    "carpeta = \"/TFM Mercado Inmobiliario - Kschool/Metodología de Modelado/9. Código y datasets/Barcelona\"  # Cambia esto según tu sistema\n",
    "clave = os.path.join(\"/TFM Mercado Inmobiliario - Kschool/Metodología de Modelado/9. Código y datasets/Barcelona\", \"clave.key\")\n",
    "\n",
    "\n",
    "os.makedirs(carpeta, exist_ok=True)\n",
    "\n",
    "key = Fernet.generate_key()\n",
    "with open(clave, \"wb\") as key_file:\n",
    "    key_file.write(key)\n"
   ]
  },
  {
   "cell_type": "code",
   "execution_count": null,
   "metadata": {},
   "outputs": [],
   "source": [
    "ath.join(\"/TFM Mercado Inmobiliario - Kschool/Metodología de Modelado/9. Código y datasets/Barcelona\", \"clave.key\")\n",
    "with open(ruta_clave, \"rb\") as key_file:\n",
    "    key = key_file.read()\n",
    "\n",
    "cipher = Fernet(key)\n",
    "def encrypt_email(email):\n",
    "    return cipher.encrypt(email.encode()).decode()  # Devuelve string para almacenar en DataFrame"
   ]
  },
  {
   "cell_type": "code",
   "execution_count": null,
   "metadata": {},
   "outputs": [],
   "source": [
    "encuesta = pd.read_csv('/TFM Mercado Inmobiliario - Kschool/Metodología de Modelado/9. Código y datasets/Barcelona/Datasets/google_form.csv')\n",
    "encuesta['Dirección de correo electrónico'] = encuesta['Dirección de correo electrónico'].apply(encrypt_email)\n",
    "encuesta.to_csv('/TFM Mercado Inmobiliario - Kschool/Metodología de Modelado/9. Código y datasets/Barcelona/Datasets/google_form.csv', index = False)"
   ]
  },
  {
   "cell_type": "code",
   "execution_count": null,
   "metadata": {},
   "outputs": [],
   "source": [
    "predicciones = pd.read_csv('/TFM Mercado Inmobiliario - Kschool/Metodología de Modelado/9. Código y datasets/Barcelona/Respuestas/Respuesta_viviendas.csv',\n",
    "    sep=\";\")\n",
    "predicciones['correo_electronico'] = predicciones['correo_electronico'].apply(encrypt_email)\n",
    "predicciones.to_csv('/TFM Mercado Inmobiliario - Kschool/Metodología de Modelado/9. Código y datasets/Barcelona/Respuestas/Respuesta_viviendas.csv',\n",
    "    sep=\";\", index = False)"
   ]
  }
 ],
 "metadata": {
  "language_info": {
   "name": "python"
  }
 },
 "nbformat": 4,
 "nbformat_minor": 2
}
