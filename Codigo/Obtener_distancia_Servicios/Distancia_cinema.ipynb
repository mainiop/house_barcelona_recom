{
 "cells": [
  {
   "cell_type": "code",
   "execution_count": 52,
   "metadata": {
    "executionInfo": {
     "elapsed": 2513,
     "status": "ok",
     "timestamp": 1733094609422,
     "user": {
      "displayName": "anibal teixeira godoy",
      "userId": "10085529180939291394"
     },
     "user_tz": -60
    },
    "id": "PuRBVxrNeo6w"
   },
   "outputs": [],
   "source": [
    "import json\n",
    "import pandas as pd\n",
    "import folium\n",
    "from geopy.distance import geodesic"
   ]
  },
  {
   "cell_type": "markdown",
   "metadata": {},
   "source": [
    "### Para obtener las distancias se ha realizado una consulta a la api de [OpenStreetMap](https://overpass-turbo.eu/)\n",
    "\n",
    "<div style=\"text-align: center;\">\n",
    "  <a href=\"https://www.openstreetmap.org/#map=7/53.462/-8.240\">\n",
    "    <img src=\"https://upload.wikimedia.org/wikipedia/commons/thumb/b/b0/Openstreetmap_logo.svg/1024px-Openstreetmap_logo.svg.png\" alt=\"OpenStreetMap\" width=\"200\" height=\"200\">\n",
    "  </a>\n",
    "  <a href=\"https://overpass-turbo.eu/\">\n",
    "    <img src=\"https://upload.wikimedia.org/wikipedia/commons/thumb/c/c3/Overpass-turbo.svg/1024px-Overpass-turbo.svg.png\" alt=\"Overpass Turbo\" width=\"200\" height=\"200\">\n",
    "  </a>\n",
    "</div>\n"
   ]
  },
  {
   "cell_type": "code",
   "execution_count": 60,
   "metadata": {
    "colab": {
     "base_uri": "https://localhost:8080/",
     "height": 287
    },
    "executionInfo": {
     "elapsed": 745,
     "status": "error",
     "timestamp": 1733094612669,
     "user": {
      "displayName": "anibal teixeira godoy",
      "userId": "10085529180939291394"
     },
     "user_tz": -60
    },
    "id": "Xxumrlzqeo6y",
    "outputId": "4b439237-ec94-4ebc-aca5-0e721466b08a"
   },
   "outputs": [],
   "source": [
    "house = pd.read_csv('/TFM Mercado Inmobiliario - Kschool/Metodología de Modelado/9. Código y datasets/Barcelona/Datasets/result_barcelona_districs_zip_final.csv', sep = \";\")"
   ]
  },
  {
   "cell_type": "code",
   "execution_count": 55,
   "metadata": {
    "id": "cLbHVhKBeo6z"
   },
   "outputs": [],
   "source": [
    "cinema = pd.read_csv('/TFM Mercado Inmobiliario - Kschool/Metodología de Modelado/9. Código y datasets/Barcelona/Datasets/Distancia_servicios/Dataset_coordenadas_servicios/cinema.csv')"
   ]
  },
  {
   "cell_type": "code",
   "execution_count": 36,
   "metadata": {},
   "outputs": [
    {
     "data": {
      "text/plain": [
       "Index(['Cinema ', 'longitude', 'latitude'], dtype='object')"
      ]
     },
     "execution_count": 36,
     "metadata": {},
     "output_type": "execute_result"
    }
   ],
   "source": [
    "cinema.columns"
   ]
  },
  {
   "cell_type": "code",
   "execution_count": 61,
   "metadata": {},
   "outputs": [
    {
     "data": {
      "text/plain": [
       "0       41.391564\n",
       "1       41.395710\n",
       "2       41.387414\n",
       "3       41.385963\n",
       "4       41.388822\n",
       "          ...    \n",
       "8913    41.395806\n",
       "8914    41.401721\n",
       "8915    41.405616\n",
       "8916    41.401888\n",
       "8917    41.406335\n",
       "Name: longitude, Length: 8918, dtype: float64"
      ]
     },
     "execution_count": 61,
     "metadata": {},
     "output_type": "execute_result"
    }
   ],
   "source": [
    "house['longitude']"
   ]
  },
  {
   "cell_type": "code",
   "execution_count": 57,
   "metadata": {},
   "outputs": [
    {
     "data": {
      "text/plain": [
       "0     41.553886\n",
       "1     41.609813\n",
       "2     41.401554\n",
       "3     41.378533\n",
       "4     41.541105\n",
       "        ...    \n",
       "59    41.540933\n",
       "60    41.607356\n",
       "61    41.614180\n",
       "62    41.555052\n",
       "63    41.555052\n",
       "Name: longitude, Length: 64, dtype: float64"
      ]
     },
     "execution_count": 57,
     "metadata": {},
     "output_type": "execute_result"
    }
   ],
   "source": [
    "cinema['longitude']"
   ]
  },
  {
   "cell_type": "code",
   "execution_count": null,
   "metadata": {},
   "outputs": [
    {
     "name": "stdout",
     "output_type": "stream",
     "text": [
      "Index(['Cinema ', 'longitude', 'latitude'], dtype='object')\n",
      "      propertyCode                                          thumbnail  \\\n",
      "0         99117414  https://img4.idealista.com/blur/WEB_LISTING-M/...   \n",
      "1        101300670  https://img4.idealista.com/blur/WEB_LISTING-M/...   \n",
      "2        104772587  https://img4.idealista.com/blur/WEB_LISTING-M/...   \n",
      "3        100770574  https://img4.idealista.com/blur/WEB_LISTING-M/...   \n",
      "4        105932101  https://img4.idealista.com/blur/WEB_LISTING-M/...   \n",
      "...            ...                                                ...   \n",
      "8913     105882581  https://img4.idealista.com/blur/WEB_LISTING-M/...   \n",
      "8914      81411842  https://img4.idealista.com/blur/WEB_LISTING-M/...   \n",
      "8915     103461663  https://img4.idealista.com/blur/WEB_LISTING-M/...   \n",
      "8916      98964029  https://img4.idealista.com/blur/WEB_LISTING-M/...   \n",
      "8917     105093241  https://img4.idealista.com/blur/WEB_LISTING-M/...   \n",
      "\n",
      "     externalReference  numPhotos    floor       price propertyType operation  \\\n",
      "0             BCNP2854         22        1   1600000.0         flat      sale   \n",
      "1             BCNP5151         29        1   1580000.0         flat      sale   \n",
      "2             BCNP2636         45        4    980000.0    penthouse      sale   \n",
      "3             BCNP5175         23        1    870000.0         flat      sale   \n",
      "4             BCN53025         35        3    495000.0         flat      sale   \n",
      "...                ...        ...      ...         ...          ...       ...   \n",
      "8913           No data          2        7   5000000.0       duplex      sale   \n",
      "8914       CSM 163085V         29  No data   5600000.0       chalet      sale   \n",
      "8915       Casa Claver         36  No data   5900000.0       chalet      sale   \n",
      "8916          B07442BA         30  No data   7450000.0       chalet      sale   \n",
      "8917            KB1800          6  No data  16750000.0       chalet      sale   \n",
      "\n",
      "        size  exterior  ...  hasSwimmingPool  hasTerrace hasAirConditioning  \\\n",
      "0      114.0     False  ...          No data        True               True   \n",
      "1      202.0      True  ...          No data     No data            No data   \n",
      "2      156.0      True  ...          No data        True            No data   \n",
      "3      129.0      True  ...          No data     No data            No data   \n",
      "4       91.0      True  ...          No data        True            No data   \n",
      "...      ...       ...  ...              ...         ...                ...   \n",
      "8913   500.0      True  ...             True        True               True   \n",
      "8914  1000.0     False  ...          No data        True              False   \n",
      "8915   560.0     False  ...             True        True               True   \n",
      "8916   900.0     False  ...             True       False              False   \n",
      "8917  1000.0     False  ...          No data     No data              False   \n",
      "\n",
      "     hasBoxRoom hasGarden zip_code size_category  \\\n",
      "0       No data   No data     8010    Very Large   \n",
      "1       No data   No data     8008   Extra Large   \n",
      "2       No data   No data     8007   Extra Large   \n",
      "3       No data   No data     8003    Very Large   \n",
      "4       No data   No data     8003         Large   \n",
      "...         ...       ...      ...           ...   \n",
      "8913       True      True     8034   Extra Large   \n",
      "8914       True      True     8034   Extra Large   \n",
      "8915       True      True     8017   Extra Large   \n",
      "8916      False     False     8017   Extra Large   \n",
      "8917    No data      True     8017   Extra Large   \n",
      "\n",
      "                                    cleaned_description  \\\n",
      "0     impressive apartment sale 163m2 terrace locate...   \n",
      "1     sothebys international realty pleased present ...   \n",
      "2     four luxurious boutique apartment eixample spe...   \n",
      "3     exclusive property offer authentic characteris...   \n",
      "4     located emblematic born neighbourhood barcelon...   \n",
      "...                                                 ...   \n",
      "8913  magnificent penthouse completely renovated sal...   \n",
      "8914  elegant mansion privileged location upper area...   \n",
      "8915  one home present casa claver unique opportunit...   \n",
      "8916  spectacular modern house located upper area ba...   \n",
      "8917  exclusive modernist villa luxury elegance ever...   \n",
      "\n",
      "                      cinema  distancia_cinema  \n",
      "0                    Comedia        473.776408  \n",
      "1             Cinemes Girona        500.520445  \n",
      "2          Aribau Multicines        146.145411  \n",
      "3               Cinema Maldà        781.703149  \n",
      "4               Cinema Maldà        731.693918  \n",
      "...                      ...               ...  \n",
      "8913  Gran Sarria Multicines       1068.415175  \n",
      "8914  Gran Sarria Multicines       1530.162958  \n",
      "8915                     NaN       2106.198053  \n",
      "8916                     NaN       2779.375107  \n",
      "8917                     NaN       2022.889453  \n",
      "\n",
      "[8918 rows x 65 columns]\n"
     ]
    }
   ],
   "source": [
    "def obtener_estacion_mas_cercana(house_row, cinema_df):\n",
    "\n",
    "    if 'latitude' not in house_row or 'longitude' not in house_row:\n",
    "        raise ValueError(\"La fila de la casa no tiene columnas 'latitude' o 'longitude'\")\n",
    "\n",
    "    house_coords = (house_row['latitude'], house_row['longitude'])\n",
    "    cinema_df['distancia'] = cinema_df.apply(lambda cinema_row: \n",
    "                                              geodesic(house_coords, (cinema_row['latitude'], cinema_row['longitude'])).meters, \n",
    "                                              axis=1)\n",
    "\n",
    "    closest_station_row = cinema_df.loc[cinema_df['distancia'].idxmin()]\n",
    "\n",
    "    estacion_cercana = closest_station_row['Cinema ']\n",
    "    distancia_minima = closest_station_row['distancia']\n",
    "\n",
    "    return estacion_cercana, distancia_minima\n",
    "\n",
    "cinema[['longitude', 'latitude']] = cinema[['longitude', 'latitude']].apply(pd.to_numeric, errors='coerce')\n",
    "\n",
    "print(cinema.columns)\n",
    "\n",
    "house[['latitude', 'longitude']] = house[['latitude', 'longitude']].apply(pd.to_numeric, errors='coerce')\n",
    "\n",
    "house[['cinema', 'distancia_cinema']] = house.apply(\n",
    "    lambda row: pd.Series(obtener_estacion_mas_cercana(row, cinema)), axis=1\n",
    ")\n"
   ]
  },
  {
   "cell_type": "code",
   "execution_count": 64,
   "metadata": {
    "id": "Nl_YRdKfeo61"
   },
   "outputs": [],
   "source": [
    "house.to_csv('/TFM Mercado Inmobiliario - Kschool/Metodología de Modelado/9. Código y datasets/Barcelona/Datasets/Distancia_servicios/Dataset_distancias/distancia_cinema.csv',\n",
    "                       index = False,\n",
    "                       sep = \";\")"
   ]
  }
 ],
 "metadata": {
  "colab": {
   "provenance": []
  },
  "kernelspec": {
   "display_name": "3.12_data",
   "language": "python",
   "name": "python3"
  },
  "language_info": {
   "codemirror_mode": {
    "name": "ipython",
    "version": 3
   },
   "file_extension": ".py",
   "mimetype": "text/x-python",
   "name": "python",
   "nbconvert_exporter": "python",
   "pygments_lexer": "ipython3",
   "version": "3.12.3"
  }
 },
 "nbformat": 4,
 "nbformat_minor": 0
}
