{
 "cells": [
  {
   "cell_type": "code",
   "execution_count": 1,
   "metadata": {
    "executionInfo": {
     "elapsed": 2513,
     "status": "ok",
     "timestamp": 1733094609422,
     "user": {
      "displayName": "anibal teixeira godoy",
      "userId": "10085529180939291394"
     },
     "user_tz": -60
    },
    "id": "PuRBVxrNeo6w"
   },
   "outputs": [],
   "source": [
    "import json\n",
    "import pandas as pd\n",
    "import folium\n",
    "from geopy.distance import geodesic"
   ]
  },
  {
   "cell_type": "markdown",
   "metadata": {},
   "source": [
    "### Para obtener las distancias se ha realizado una consulta a la api de [OpenStreetMap](https://overpass-turbo.eu/)\n",
    "\n",
    "<div style=\"text-align: center;\">\n",
    "  <a href=\"https://www.openstreetmap.org/#map=7/53.462/-8.240\">\n",
    "    <img src=\"https://upload.wikimedia.org/wikipedia/commons/thumb/b/b0/Openstreetmap_logo.svg/1024px-Openstreetmap_logo.svg.png\" alt=\"OpenStreetMap\" width=\"200\" height=\"200\">\n",
    "  </a>\n",
    "  <a href=\"https://overpass-turbo.eu/\">\n",
    "    <img src=\"https://upload.wikimedia.org/wikipedia/commons/thumb/c/c3/Overpass-turbo.svg/1024px-Overpass-turbo.svg.png\" alt=\"Overpass Turbo\" width=\"200\" height=\"200\">\n",
    "  </a>\n",
    "</div>\n"
   ]
  },
  {
   "cell_type": "code",
   "execution_count": 2,
   "metadata": {
    "colab": {
     "base_uri": "https://localhost:8080/",
     "height": 287
    },
    "executionInfo": {
     "elapsed": 745,
     "status": "error",
     "timestamp": 1733094612669,
     "user": {
      "displayName": "anibal teixeira godoy",
      "userId": "10085529180939291394"
     },
     "user_tz": -60
    },
    "id": "Xxumrlzqeo6y",
    "outputId": "4b439237-ec94-4ebc-aca5-0e721466b08a"
   },
   "outputs": [],
   "source": [
    "house = pd.read_csv('/TFM Mercado Inmobiliario - Kschool/Metodología de Modelado/9. Código y datasets/Barcelona/Datasets/result_barcelona_districs_zip_final.csv', sep = \";\")"
   ]
  },
  {
   "cell_type": "code",
   "execution_count": 3,
   "metadata": {
    "id": "cLbHVhKBeo6z"
   },
   "outputs": [],
   "source": [
    "gimnasio = pd.read_csv('/TFM Mercado Inmobiliario - Kschool/Metodología de Modelado/9. Código y datasets/Barcelona/Datasets/Distancia_servicios/Dataset_coordenadas_servicios/gimnasios.csv')"
   ]
  },
  {
   "cell_type": "code",
   "execution_count": 4,
   "metadata": {},
   "outputs": [
    {
     "data": {
      "text/plain": [
       "'Gimnasio _distancia'"
      ]
     },
     "execution_count": 4,
     "metadata": {},
     "output_type": "execute_result"
    }
   ],
   "source": [
    "nom = gimnasio.columns[0]\n",
    "nom_dist = nom + '_distancia'\n",
    "nom_dist"
   ]
  },
  {
   "cell_type": "code",
   "execution_count": null,
   "metadata": {},
   "outputs": [
    {
     "name": "stdout",
     "output_type": "stream",
     "text": [
      "Index(['Gimnasio ', 'longitude', 'latitude'], dtype='object')\n",
      "      propertyCode                                          thumbnail  \\\n",
      "0         99117414  https://img4.idealista.com/blur/WEB_LISTING-M/...   \n",
      "1        101300670  https://img4.idealista.com/blur/WEB_LISTING-M/...   \n",
      "2        104772587  https://img4.idealista.com/blur/WEB_LISTING-M/...   \n",
      "3        100770574  https://img4.idealista.com/blur/WEB_LISTING-M/...   \n",
      "4        105932101  https://img4.idealista.com/blur/WEB_LISTING-M/...   \n",
      "...            ...                                                ...   \n",
      "8913     105882581  https://img4.idealista.com/blur/WEB_LISTING-M/...   \n",
      "8914      81411842  https://img4.idealista.com/blur/WEB_LISTING-M/...   \n",
      "8915     103461663  https://img4.idealista.com/blur/WEB_LISTING-M/...   \n",
      "8916      98964029  https://img4.idealista.com/blur/WEB_LISTING-M/...   \n",
      "8917     105093241  https://img4.idealista.com/blur/WEB_LISTING-M/...   \n",
      "\n",
      "     externalReference  numPhotos    floor       price propertyType operation  \\\n",
      "0             BCNP2854         22        1   1600000.0         flat      sale   \n",
      "1             BCNP5151         29        1   1580000.0         flat      sale   \n",
      "2             BCNP2636         45        4    980000.0    penthouse      sale   \n",
      "3             BCNP5175         23        1    870000.0         flat      sale   \n",
      "4             BCN53025         35        3    495000.0         flat      sale   \n",
      "...                ...        ...      ...         ...          ...       ...   \n",
      "8913           No data          2        7   5000000.0       duplex      sale   \n",
      "8914       CSM 163085V         29  No data   5600000.0       chalet      sale   \n",
      "8915       Casa Claver         36  No data   5900000.0       chalet      sale   \n",
      "8916          B07442BA         30  No data   7450000.0       chalet      sale   \n",
      "8917            KB1800          6  No data  16750000.0       chalet      sale   \n",
      "\n",
      "        size  exterior  ...  hasAirConditioning  hasBoxRoom hasGarden  \\\n",
      "0      114.0     False  ...                True     No data   No data   \n",
      "1      202.0      True  ...             No data     No data   No data   \n",
      "2      156.0      True  ...             No data     No data   No data   \n",
      "3      129.0      True  ...             No data     No data   No data   \n",
      "4       91.0      True  ...             No data     No data   No data   \n",
      "...      ...       ...  ...                 ...         ...       ...   \n",
      "8913   500.0      True  ...                True        True      True   \n",
      "8914  1000.0     False  ...               False        True      True   \n",
      "8915   560.0     False  ...                True        True      True   \n",
      "8916   900.0     False  ...               False       False     False   \n",
      "8917  1000.0     False  ...               False     No data      True   \n",
      "\n",
      "     zip_code size_category  \\\n",
      "0        8010    Very Large   \n",
      "1        8008   Extra Large   \n",
      "2        8007   Extra Large   \n",
      "3        8003    Very Large   \n",
      "4        8003         Large   \n",
      "...       ...           ...   \n",
      "8913     8034   Extra Large   \n",
      "8914     8034   Extra Large   \n",
      "8915     8017   Extra Large   \n",
      "8916     8017   Extra Large   \n",
      "8917     8017   Extra Large   \n",
      "\n",
      "                                    cleaned_description     cinema  \\\n",
      "0     impressive apartment sale 163m2 terrace locate...  Cinema 5D   \n",
      "1     sothebys international realty pleased present ...  Cinema 5D   \n",
      "2     four luxurious boutique apartment eixample spe...  Cinema 5D   \n",
      "3     exclusive property offer authentic characteris...  Cinema 5D   \n",
      "4     located emblematic born neighbourhood barcelon...  Cinema 5D   \n",
      "...                                                 ...        ...   \n",
      "8913  magnificent penthouse completely renovated sal...  Cinema 5D   \n",
      "8914  elegant mansion privileged location upper area...  Cinema 5D   \n",
      "8915  one home present casa claver unique opportunit...  Cinema 5D   \n",
      "8916  spectacular modern house located upper area ba...  Cinema 5D   \n",
      "8917  exclusive modernist villa luxury elegance ever...  Cinema 5D   \n",
      "\n",
      "     distancia_cinema            Gimnasio   Gimnasio _distancia  \n",
      "0        5.819924e+06             Cosmofit           104.829523  \n",
      "1        5.820797e+06                  NaN           193.723403  \n",
      "2        5.820229e+06         Holmes Place           182.753764  \n",
      "3        5.818939e+06  Ashtanga Yoga Shala           564.046051  \n",
      "4        5.819331e+06             ago yoga           331.442793  \n",
      "...               ...                  ...                  ...  \n",
      "8913     5.823346e+06      Anytime Fitness           482.951093  \n",
      "8914     5.823888e+06                  NaN           588.297266  \n",
      "8915     5.824449e+06                  NaN           706.383531  \n",
      "8916     5.824810e+06      Anytime Fitness          1429.514573  \n",
      "8917     5.824469e+06                  NaN           653.063191  \n",
      "\n",
      "[8918 rows x 67 columns]\n"
     ]
    }
   ],
   "source": [
    "def obtener_estacion_mas_cercana(house_row, cinema_df):\n",
    "    if 'latitude' not in house_row or 'longitude' not in house_row:\n",
    "        raise ValueError(\"La fila de la casa no tiene columnas 'latitude' o 'longitude'\")\n",
    "    house_coords = (house_row['latitude'], house_row['longitude'])\n",
    "    cinema_df[nom_dist] = cinema_df.apply(lambda cinema_row: \n",
    "                                              geodesic(house_coords, (cinema_row['latitude'], cinema_row['longitude'])).meters, \n",
    "                                              axis=1)\n",
    "\n",
    "    closest_station_row = cinema_df.loc[cinema_df[nom_dist].idxmin()]\n",
    "\n",
    "    estacion_cercana = closest_station_row[nom]\n",
    "    distancia_minima = closest_station_row[nom_dist]\n",
    "\n",
    "    return estacion_cercana, distancia_minima\n",
    "\n",
    "gimnasio[['longitude', 'latitude']] = gimnasio[['longitude', 'latitude']].apply(pd.to_numeric, errors='coerce')\n",
    "\n",
    "print(gimnasio.columns)\n",
    "\n",
    "house[['latitude', 'longitude']] = house[['latitude', 'longitude']].apply(pd.to_numeric, errors='coerce')\n",
    "\n",
    "house[[nom, nom_dist]] = house.apply(\n",
    "    lambda row: pd.Series(obtener_estacion_mas_cercana(row, gimnasio)), axis=1\n",
    ")"
   ]
  },
  {
   "cell_type": "code",
   "execution_count": 7,
   "metadata": {
    "id": "Nl_YRdKfeo61"
   },
   "outputs": [],
   "source": [
    "house.to_csv(\"/TFM Mercado Inmobiliario - Kschool/Metodología de Modelado/9. Código y datasets/Barcelona/Datasets/Distancia_servicios/Dataset_distancias/\" + nom_dist + \".csv\", index=False, sep=\";\")\n"
   ]
  }
 ],
 "metadata": {
  "colab": {
   "provenance": []
  },
  "kernelspec": {
   "display_name": "3.12_data",
   "language": "python",
   "name": "python3"
  },
  "language_info": {
   "codemirror_mode": {
    "name": "ipython",
    "version": 3
   },
   "file_extension": ".py",
   "mimetype": "text/x-python",
   "name": "python",
   "nbconvert_exporter": "python",
   "pygments_lexer": "ipython3",
   "version": "3.12.3"
  }
 },
 "nbformat": 4,
 "nbformat_minor": 0
}
